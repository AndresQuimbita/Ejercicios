{
 "cells": [
  {
   "cell_type": "markdown",
   "id": "35509289",
   "metadata": {},
   "source": [
    "##  1. Given the following implementation of the class `PriorityQueue`, implement the methods:\n",
    "\n",
    "- `insert(v,k)` - add an element $v$ with priority $k$. Complexity $O(n)$\n",
    "- `deleteMin()` - remove the element with the lowest $k$ (highest priority). Complexity $O(1)$\n",
    "- `decreaseKey(v,k)` - decrease the value of $k$ (increase priority). Complexity $O(n)$\n",
    "\n",
    "**Show complexity analysis for each implementation**"
   ]
  },
  {
   "cell_type": "code",
   "execution_count": 620,
   "id": "f3bc25de",
   "metadata": {},
   "outputs": [],
   "source": [
    "import ctypes\n",
    "class PriorityQueue(object):\n",
    "    \"\"\"\n",
    "    Implementation of the queue data structure\n",
    "    \"\"\"\n",
    "\n",
    "    def __init__(self, n):\n",
    "        self.item_count = 0\n",
    "        self.n = n\n",
    "        self.queue = self._create_queue(self.n)        \n",
    "    \n",
    "    def _create_queue(self, n):\n",
    "        \"\"\"\n",
    "        Creates a new stack of capacity n\n",
    "        \"\"\"\n",
    "        return (n * ctypes.py_object)()\n",
    "    \n",
    "    def insert(self, item):\n",
    "        \"\"\"\n",
    "        Add new item to the queue\n",
    "        \"\"\"\n",
    "        if self.item_count == self.n:\n",
    "            raise ValueError(\"no more capacity\")\n",
    "        self.queue[self.item_count] = item\n",
    "        self.item_count += 1\n",
    "        for i in range (0,self.item_count-1):        \n",
    "            j = i\n",
    "            while (j >= 0) and (self.queue[j][1] < self.queue[j+1][1]):\n",
    "                self.queue[j],self.queue[j+1] = self.queue[j+1],self.queue[j]\n",
    "                j -= 1\n",
    "    def deleteMin(self):\n",
    "        self.queue[self.item_count - 1] = None\n",
    "        self.item_count -= 1\n",
    "    def decreaseKey(self,index,value_decrease):\n",
    "        if value_decrease > self.queue[index][1]:\n",
    "            raise ValueError(\"Value decrease invalid. Is bigger than key value.\")\n",
    "        self.queue[index]= (self.queue[index][0],self.queue[index][1]-value_decrease)\n",
    "        for i in range (0,self.item_count-1):        \n",
    "            j = i\n",
    "            while (j >= 0) and (self.queue[j][1] < self.queue[j+1][1]):\n",
    "                self.queue[j],self.queue[j+1] = self.queue[j+1],self.queue[j]\n",
    "                j -= 1\n",
    "        "
   ]
  },
  {
   "cell_type": "code",
   "execution_count": 621,
   "id": "d8df8e55",
   "metadata": {},
   "outputs": [],
   "source": [
    "q = PriorityQueue(10)"
   ]
  },
  {
   "cell_type": "code",
   "execution_count": 622,
   "id": "35c1d356",
   "metadata": {},
   "outputs": [],
   "source": [
    "#Insert plus order from the lowest priority to highest priority.\n",
    "q.insert((1,2))\n",
    "q.insert((2,4))\n",
    "q.insert((0,1))\n",
    "q.insert((9,43))\n",
    "q.insert((1,21))"
   ]
  },
  {
   "cell_type": "code",
   "execution_count": 623,
   "id": "98d0645b",
   "metadata": {},
   "outputs": [
    {
     "data": {
      "text/plain": [
       "[(9, 43), (1, 21), (2, 4), (1, 2), (0, 1)]"
      ]
     },
     "execution_count": 623,
     "metadata": {},
     "output_type": "execute_result"
    }
   ],
   "source": [
    "q.queue[0:q.item_count]"
   ]
  },
  {
   "cell_type": "code",
   "execution_count": 624,
   "id": "d4fc6d6b",
   "metadata": {},
   "outputs": [],
   "source": [
    "#Delete the highest element priority.\n",
    "q.deleteMin()"
   ]
  },
  {
   "cell_type": "code",
   "execution_count": 625,
   "id": "052110dc",
   "metadata": {},
   "outputs": [
    {
     "data": {
      "text/plain": [
       "[(9, 43), (1, 21), (2, 4), (1, 2)]"
      ]
     },
     "execution_count": 625,
     "metadata": {},
     "output_type": "execute_result"
    }
   ],
   "source": [
    "q.queue[0:q.item_count]"
   ]
  },
  {
   "cell_type": "code",
   "execution_count": 626,
   "id": "71365f59",
   "metadata": {},
   "outputs": [],
   "source": [
    "#Decrease 3 from value key of index 2 from Queue.\n",
    "q.decreaseKey(2,3)"
   ]
  },
  {
   "cell_type": "code",
   "execution_count": 627,
   "id": "ce314a7a",
   "metadata": {},
   "outputs": [
    {
     "data": {
      "text/plain": [
       "[(9, 43), (1, 21), (1, 2), (2, 1)]"
      ]
     },
     "execution_count": 627,
     "metadata": {},
     "output_type": "execute_result"
    }
   ],
   "source": [
    "q.queue[0:q.item_count]"
   ]
  },
  {
   "cell_type": "markdown",
   "id": "6079fb21",
   "metadata": {},
   "source": [
    "## 2. You are given two non-negative integers in the form of two non-empty linked lists. The digits are stored in reverse order, and each nodes contains a single digit. Add the two numbers and return the sum as a linked list.\n",
    "\n",
    "For example:\n",
    "\n",
    "**Input:** \n",
    "- $L_1$ = 1 -> 4 -> 5\n",
    "- $L_2$ = 4 -> 3 -> 2\n",
    "\n",
    "**Output:**\n",
    "- $L_3$ = 5 -> 7 -> 7\n",
    "\n",
    "Note that, the problem is equivalent to adding: 541 + 234  =  775"
   ]
  },
  {
   "cell_type": "code",
   "execution_count": 3,
   "id": "09ce0654",
   "metadata": {},
   "outputs": [],
   "source": [
    "class Node:\n",
    "    \"\"\"\n",
    "    Implementation of a node\n",
    "    \"\"\"\n",
    "    def __init__(self, val=None):\n",
    "        self.val = val\n",
    "        self.next_node = None\n",
    "        self.counter = 0\n",
    "    \n",
    "    def set_next_node(self, next_node):\n",
    "        self.next_node = next_node\n",
    "        \n",
    "class Singly_linked_list:\n",
    "    \"\"\"\n",
    "    Implementation of a singly linked list\n",
    "    \"\"\"\n",
    "    def __init__(self, head_node=None):\n",
    "        self.head_node = head_node\n",
    "        \n",
    "    def list_traversed(self):\n",
    "        node = self.head_node\n",
    "        while node:\n",
    "            print(node.val)\n",
    "            node = node.next_node\n",
    "    def append(self, node):\n",
    "        new_node = node\n",
    "        if self.head_node is None:\n",
    "            self.head_node = new_node\n",
    "            return\n",
    "        last_node = self.head_node\n",
    "        while (last_node.next_node):\n",
    "            last_node = last_node.next_node\n",
    "        last_node.next_node =  new_node\n",
    " "
   ]
  },
  {
   "cell_type": "code",
   "execution_count": 8,
   "id": "74806426",
   "metadata": {},
   "outputs": [],
   "source": [
    "def sum (s1,s2):\n",
    "    node1 = s1.head_node\n",
    "    node2 = s2.head_node\n",
    "    node = 0\n",
    "    u = 0\n",
    "    d = 0\n",
    "    s3 = Singly_linked_list()\n",
    "    while node1 and node2:\n",
    "        #while node2:\n",
    "        if (d != 0):\n",
    "            node = node1.val + node2.val + d\n",
    "        else:\n",
    "            node = node1.val + node2.val\n",
    "        u = node % 10\n",
    "        d = int(node / 10)\n",
    "        s3.append(Node(u))\n",
    "        node2 = node2.next_node\n",
    "        node1 = node1.next_node\n",
    "        if (node2 == None and node1 != None):\n",
    "            s3.append(Node(node1.val+d))\n",
    "            break\n",
    "        if (node2 != None and node1 == None):\n",
    "            s3.append(Node(node2.val+d)) \n",
    "            break\n",
    "        if (node2 == None and node1 == None):\n",
    "            s3.append(Node(d))\n",
    "            break\n",
    "    return s3\n"
   ]
  },
  {
   "cell_type": "code",
   "execution_count": 9,
   "id": "5d1927f3",
   "metadata": {},
   "outputs": [
    {
     "name": "stdout",
     "output_type": "stream",
     "text": [
      "4\n",
      "4\n",
      "2\n",
      "5\n",
      "8\n"
     ]
    }
   ],
   "source": [
    "m1 = Node(9)\n",
    "m2 = Node(1)\n",
    "m3 = Node(9)\n",
    "m4 = Node(9)\n",
    "m5 = Node(7)\n",
    "m1.set_next_node(m2)\n",
    "m2.set_next_node(m3)\n",
    "m3.set_next_node(m4)\n",
    "m4.set_next_node(m5)\n",
    "c1 = Node(5)\n",
    "c2 = Node(2)\n",
    "c3 = Node(3)\n",
    "c4 = Node(5)\n",
    "c1.set_next_node(c2)\n",
    "c2.set_next_node(c3)\n",
    "c3.set_next_node(c4)\n",
    "list1 = Singly_linked_list(m1)\n",
    "list2 = Singly_linked_list(c1)\n",
    "list3 = sum(list1,list2)\n",
    "list3.list_traversed()"
   ]
  },
  {
   "cell_type": "code",
   "execution_count": null,
   "id": "9901ccd7",
   "metadata": {},
   "outputs": [],
   "source": []
  },
  {
   "cell_type": "markdown",
   "id": "af6d7612",
   "metadata": {},
   "source": [
    "## 3. Given a linked list, detect if the list has a cycle. If a cycle is detected, return the position of the node (with respect to the head) where the cycle starts.\n",
    "\n",
    "For example:\n",
    "\n",
    "![](./cycle.png)\n",
    "\n",
    "**Input:**\n",
    "- Jan -> Feb -> March -> Dec\n",
    "\n",
    "**Output:**\n",
    "- True\n",
    "- 2"
   ]
  },
  {
   "cell_type": "code",
   "execution_count": 789,
   "id": "aadf38ff",
   "metadata": {},
   "outputs": [],
   "source": [
    "def loop_link_list(self):\n",
    "    node = self.head_node\n",
    "    while node:\n",
    "        if (node.counter == 1):\n",
    "            return True\n",
    "        node.counter = 1\n",
    "        node = node.next_node\n",
    "    return False\n",
    "    "
   ]
  },
  {
   "cell_type": "code",
   "execution_count": 793,
   "id": "f2d0a31c",
   "metadata": {},
   "outputs": [],
   "source": [
    "m1 = Node(\"Jan\")\n",
    "m2 = Node(\"Feb\")\n",
    "m3 = Node(\"March\")\n",
    "m4 = Node(\"Dec\")\n",
    "m1.set_next_node(m2)\n",
    "m2.set_next_node(m3)\n",
    "m3.set_next_node(m4)\n",
    "m4.set_next_node(m3)"
   ]
  },
  {
   "cell_type": "code",
   "execution_count": 794,
   "id": "31af96b3",
   "metadata": {},
   "outputs": [],
   "source": [
    "list1 = Singly_linked_list(m1)"
   ]
  },
  {
   "cell_type": "code",
   "execution_count": 795,
   "id": "57a24408",
   "metadata": {},
   "outputs": [
    {
     "data": {
      "text/plain": [
       "True"
      ]
     },
     "execution_count": 795,
     "metadata": {},
     "output_type": "execute_result"
    }
   ],
   "source": [
    "loop_link_list(list1)"
   ]
  },
  {
   "cell_type": "code",
   "execution_count": null,
   "id": "387f6b16",
   "metadata": {},
   "outputs": [],
   "source": []
  },
  {
   "cell_type": "markdown",
   "id": "a3746feb",
   "metadata": {},
   "source": [
    "## 4.  CLRS 10.1-5\n",
    "pg. 236\n",
    "\n",
    "**Implement as a Python class**"
   ]
  },
  {
   "cell_type": "code",
   "execution_count": 170,
   "id": "8530c5aa",
   "metadata": {},
   "outputs": [],
   "source": [
    "import ctypes\n",
    "class Deque(object):\n",
    "    \"\"\"\n",
    "    Implementation of the queue data structure\n",
    "    \"\"\"\n",
    "\n",
    "    def __init__(self, n):\n",
    "        self.item_count = 0\n",
    "        self.head = 0\n",
    "        self.tail = n-1\n",
    "        self.n = n\n",
    "        self.deque = self._create_deque(self.n)        \n",
    "    \n",
    "    def _create_deque(self, n):\n",
    "        \"\"\"\n",
    "        Creates a new stack of capacity n\n",
    "        \"\"\"\n",
    "        return (n * ctypes.py_object)()\n",
    "    \n",
    "    # O(1)\n",
    "    def add_First(self, item):\n",
    "        if self.item_count == self.n:\n",
    "            raise ValueError(\"no more capacity\")\n",
    "        self.deque[self.head] = item\n",
    "        self.item_count += 1\n",
    "        self.head = (self.head+1)%self.n\n",
    "        \n",
    "    def add_Last(self, item):\n",
    "        if self.item_count == self.n:\n",
    "            raise ValueError(\"no more capacity\")\n",
    "        self.deque[self.tail] = item\n",
    "        self.item_count += 1\n",
    "        self.tail = (self.tail-1)%self.n\n",
    "\n",
    "    def remove_First(self):\n",
    "        self.item_count -= 1\n",
    "        self.head = (self.head-1)%self.n\n",
    "        remove = self.deque[self.head]\n",
    "        return remove\n",
    "\n",
    "    def remove_Last(self):\n",
    "        self.item_count -= 1\n",
    "        self.tail = (self.tail+1)%self.n\n",
    "        remove = self.deque[self.tail]\n",
    "        return remove\n",
    "    \n",
    "    # O(1)\n",
    "    def full(self):\n",
    "        \"\"\"\n",
    "        Is the queue full?\n",
    "        \"\"\"\n",
    "        if self.item_count == self.n:\n",
    "            return True\n",
    "        return False\n",
    "\n",
    "    def empty(self):\n",
    "        \"\"\"\n",
    "        Is the queue empty?\n",
    "        \"\"\"\n",
    "        if self.item_count == 0:\n",
    "            return True\n",
    "        return False\n",
    "\n",
    "    def size(self):\n",
    "        \"\"\"\n",
    "        Return size of the stack\n",
    "        \"\"\"\n",
    "        return self.item_count"
   ]
  },
  {
   "cell_type": "code",
   "execution_count": 171,
   "id": "6f6330da",
   "metadata": {},
   "outputs": [],
   "source": [
    "q = Deque(10)"
   ]
  },
  {
   "cell_type": "code",
   "execution_count": 172,
   "id": "5821d6b6",
   "metadata": {},
   "outputs": [],
   "source": [
    "q.add_First(2)"
   ]
  },
  {
   "cell_type": "code",
   "execution_count": 173,
   "id": "d97b0d08",
   "metadata": {},
   "outputs": [],
   "source": [
    "q.add_First(4)"
   ]
  },
  {
   "cell_type": "code",
   "execution_count": 174,
   "id": "fe38d096",
   "metadata": {},
   "outputs": [],
   "source": [
    "q.add_Last(5)"
   ]
  },
  {
   "cell_type": "code",
   "execution_count": 175,
   "id": "c5dbe871",
   "metadata": {},
   "outputs": [],
   "source": [
    "q.add_Last(6)"
   ]
  },
  {
   "cell_type": "code",
   "execution_count": 176,
   "id": "19e7c4a7",
   "metadata": {},
   "outputs": [
    {
     "data": {
      "text/plain": [
       "6"
      ]
     },
     "execution_count": 176,
     "metadata": {},
     "output_type": "execute_result"
    }
   ],
   "source": [
    "q.remove_Last()"
   ]
  },
  {
   "cell_type": "code",
   "execution_count": 177,
   "id": "fb8bf773",
   "metadata": {},
   "outputs": [
    {
     "data": {
      "text/plain": [
       "4"
      ]
     },
     "execution_count": 177,
     "metadata": {},
     "output_type": "execute_result"
    }
   ],
   "source": [
    "q.remove_First()"
   ]
  },
  {
   "cell_type": "code",
   "execution_count": null,
   "id": "c8a4ab4a",
   "metadata": {},
   "outputs": [],
   "source": []
  },
  {
   "cell_type": "markdown",
   "id": "eaae4571",
   "metadata": {},
   "source": [
    "## 5.  CLRS 10.1-6\n",
    "pg. 236\n",
    "\n",
    "**Implement as a Python class**"
   ]
  },
  {
   "cell_type": "code",
   "execution_count": 241,
   "id": "7bbfe140",
   "metadata": {},
   "outputs": [],
   "source": [
    "class Stack(object):\n",
    "    \"\"\"\n",
    "    Implementation of the stack data structure\n",
    "    \"\"\"\n",
    "\n",
    "    def __init__(self, n):\n",
    "        self.item_count = 0\n",
    "        self.n = n\n",
    "        self.stack = self._create_stack(self.n)        \n",
    "    \n",
    "    def _create_stack(self, n):\n",
    "        \"\"\"\n",
    "        Creates a new stack of capacity n\n",
    "        \"\"\"\n",
    "        return (n * ctypes.py_object)()\n",
    "    \n",
    "    def push(self, item):\n",
    "        \"\"\"\n",
    "        Add new item to the stack\n",
    "        \"\"\"\n",
    "        if self.item_count == self.n:\n",
    "            raise ValueError(\"no more capacity\")\n",
    "        self.stack[self.item_count] = item\n",
    "        self.item_count += 1\n",
    "        \n",
    "    def pop(self):\n",
    "        \"\"\"\n",
    "        Remove an element from the stack\n",
    "        \"\"\"\n",
    "        c = self.stack[self.item_count-1]\n",
    "        self.stack[self.item_count] = ctypes.py_object\n",
    "        self.item_count -= 1\n",
    "        return c\n",
    "        \n",
    "    def top(self):\n",
    "        \"\"\"\n",
    "        Show the top element of the stack\n",
    "        \"\"\"\n",
    "        return self.stack[self.item_count-1]\n",
    "\n",
    "    def full(self):\n",
    "        \"\"\"\n",
    "        Is the stack full?\n",
    "        \"\"\"\n",
    "        if self.item_count == self.n:\n",
    "            return True\n",
    "        return False\n",
    "\n",
    "    def empty(self):\n",
    "        \"\"\"\n",
    "        Is the stack empty?\n",
    "        \"\"\"\n",
    "        if self.item_count == 0:\n",
    "            return True\n",
    "        return False\n",
    "\n",
    "    def size(self):\n",
    "        \"\"\"\n",
    "        Return size of the stack\n",
    "        \"\"\"\n",
    "        return self.item_count"
   ]
  },
  {
   "cell_type": "code",
   "execution_count": 242,
   "id": "b56d1c3c",
   "metadata": {},
   "outputs": [],
   "source": [
    "class Queue:\n",
    "    \n",
    "    def __init__(self, n):\n",
    "        self.stack1 = Stack(n)\n",
    "        self.stack2 = Stack(n)\n",
    "    \n",
    "    def enqueue(self,item):\n",
    "        self.stack1.push(item)\n",
    "        \n",
    "    def dequeue(self):\n",
    "        if(self.stack2.empty()):\n",
    "            while (self.stack1.size()>0):\n",
    "                self.stack2.push(self.stack1.pop())\n",
    "        return self.stack2.pop()\n",
    "    "
   ]
  },
  {
   "cell_type": "code",
   "execution_count": 243,
   "id": "3b3133f9",
   "metadata": {},
   "outputs": [
    {
     "name": "stdout",
     "output_type": "stream",
     "text": [
      "0\n",
      "1\n"
     ]
    }
   ],
   "source": [
    "q = Queue(10)\n",
    "for i in range(5):\n",
    "    q.enqueue(i)\n",
    "print(q.dequeue())\n",
    "print(q.dequeue())"
   ]
  },
  {
   "cell_type": "markdown",
   "id": "f09585d1",
   "metadata": {},
   "source": [
    "## 6.  CLRS 10.1-7\n",
    "pg. 236\n",
    "\n",
    "**Implement as a Python class**"
   ]
  },
  {
   "cell_type": "code",
   "execution_count": 244,
   "id": "b0bb74a8",
   "metadata": {},
   "outputs": [],
   "source": [
    "import ctypes\n",
    "class Queue(object):\n",
    "    \"\"\"\n",
    "    Implementation of the queue data structure\n",
    "    \"\"\"\n",
    "\n",
    "    def __init__(self, n):\n",
    "        self.item_count = 0\n",
    "        self.n = n\n",
    "        self.queue = self._create_queue(self.n)        \n",
    "    \n",
    "    def _create_queue(self, n):\n",
    "        \"\"\"\n",
    "        Creates a new stack of capacity n\n",
    "        \"\"\"\n",
    "        return (n * ctypes.py_object)()\n",
    "    \n",
    "    def enqueue(self, item):\n",
    "        \"\"\"\n",
    "        Add new item to the queue\n",
    "        \"\"\"\n",
    "        if self.item_count == self.n:\n",
    "            raise ValueError(\"no more capacity\")\n",
    "        self.queue[self.item_count] = item\n",
    "        self.item_count += 1\n",
    "\n",
    "    # O(n)\n",
    "    def dequeue(self):\n",
    "        \"\"\"\n",
    "        Remove an element from the queue\n",
    "        \"\"\"\n",
    "        c = self.queue[0]\n",
    "        for i in range(1,self.item_count):\n",
    "            self.queue[i-1] = self.queue[i]\n",
    "        self.queue[self.item_count - 1] = ctypes.py_object\n",
    "        self.item_count -= 1\n",
    "        return c\n",
    "    \n",
    "    # O(1)\n",
    "    def first(self):\n",
    "        \"\"\"\n",
    "        Show the first element of the queue\n",
    "        \"\"\"\n",
    "        return self.queue[0]\n",
    "    \n",
    "    # O(1)\n",
    "    def full(self):\n",
    "        \"\"\"\n",
    "        Is the queue full?\n",
    "        \"\"\"\n",
    "        if self.item_count == self.n:\n",
    "            return True\n",
    "        return False\n",
    "\n",
    "    def empty(self):\n",
    "        \"\"\"\n",
    "        Is the queue empty?\n",
    "        \"\"\"\n",
    "        if self.item_count == 0:\n",
    "            return True\n",
    "        return False\n",
    "\n",
    "    def size(self):\n",
    "        \"\"\"\n",
    "        Return size of the stack\n",
    "        \"\"\"\n",
    "        return self.item_count    "
   ]
  },
  {
   "cell_type": "code",
   "execution_count": 245,
   "id": "96ab54b8",
   "metadata": {},
   "outputs": [],
   "source": [
    "class Stack:\n",
    "    \n",
    "    def __init__(self,n):\n",
    "        self.item_count = 0\n",
    "        self.queue1 = Queue(n)\n",
    "        self.queue2 = Queue(n)\n",
    "    \n",
    "    def push(self, item):\n",
    "        self.item_count += 1\n",
    "        if self.queue1.size() == 0:\n",
    "            self.queue1.enqueue(item)\n",
    "        else:\n",
    "            for i in range(self.queue1.size()):\n",
    "                self.queue2.enqueue(self.queue1.dequeue())\n",
    "            self.queue1.enqueue(item)\n",
    "            for i in range(self.queue2.size()):\n",
    "                self.queue1.enqueue(self.queue2.dequeue())\n",
    "    def pop(self):\n",
    "        self.item_count -= 1\n",
    "        return self.queue1.dequeue()\n",
    "    def size (self):\n",
    "        return self.item_count"
   ]
  },
  {
   "cell_type": "code",
   "execution_count": 246,
   "id": "a6720d63",
   "metadata": {},
   "outputs": [
    {
     "name": "stdout",
     "output_type": "stream",
     "text": [
      "4\n",
      "3\n"
     ]
    },
    {
     "data": {
      "text/plain": [
       "3"
      ]
     },
     "execution_count": 246,
     "metadata": {},
     "output_type": "execute_result"
    }
   ],
   "source": [
    "q = Stack(10)\n",
    "for i in range(5):\n",
    "    q.push(i)\n",
    "print(q.pop())\n",
    "print(q.pop())\n",
    "q.size()"
   ]
  },
  {
   "cell_type": "code",
   "execution_count": null,
   "id": "202d8a2a",
   "metadata": {},
   "outputs": [],
   "source": []
  }
 ],
 "metadata": {
  "kernelspec": {
   "display_name": "Python 3",
   "language": "python",
   "name": "python3"
  },
  "language_info": {
   "codemirror_mode": {
    "name": "ipython",
    "version": 3
   },
   "file_extension": ".py",
   "mimetype": "text/x-python",
   "name": "python",
   "nbconvert_exporter": "python",
   "pygments_lexer": "ipython3",
   "version": "3.8.8"
  }
 },
 "nbformat": 4,
 "nbformat_minor": 5
}
