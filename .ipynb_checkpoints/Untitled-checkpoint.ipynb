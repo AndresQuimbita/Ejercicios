{
 "cells": [
  {
   "cell_type": "code",
   "execution_count": 210,
   "id": "88fd22c1",
   "metadata": {},
   "outputs": [],
   "source": [
    "class Node:\n",
    "    \"\"\"\n",
    "    Implementation of a node\n",
    "    \"\"\"\n",
    "    def __init__(self, val=None):\n",
    "        self.val = val\n",
    "        self.next_node = None\n",
    "    \n",
    "    def set_next_node(self, next_node):\n",
    "        self.next_node = next_node\n",
    "        \n",
    "class Stack(object):\n",
    "    \"\"\"\n",
    "    Implementation of a singly linked list\n",
    "    \"\"\"\n",
    "    def __init__(self, head_node=None):\n",
    "        self.head_node = head_node\n",
    "        self.item_count = 0\n",
    "    \n",
    "    def list_traversed(self):\n",
    "        node = self.head_node\n",
    "        while node:\n",
    "            print(node.val)\n",
    "            node = node.next_node\n",
    "            \n",
    "    def empty(self):\n",
    "        if self.head_node == None:\n",
    "            return True\n",
    "        else:\n",
    "            return False\n",
    "     \n",
    "    # Method to add data to the stack\n",
    "    # adds to the start of the stack\n",
    "    def push(self,data):\n",
    "         \n",
    "        if self.head_node == None:\n",
    "            self.head_node=Node(data)\n",
    "             \n",
    "        else:\n",
    "            new_node = Node(data)\n",
    "            new_node.next_node = self.head_node\n",
    "            self.head_node = new_node\n",
    "        \n",
    "        self.item_count += 1\n",
    "    def pop(self):\n",
    "         \n",
    "        if self.empty():\n",
    "            return None\n",
    "             \n",
    "        else:\n",
    "            self.head_node = self.head_node.next_node\n",
    "        self.item_count -= 1\n",
    "    def top(self):\n",
    "        \"\"\"\n",
    "        Show the top element of the stack\n",
    "        \"\"\"\n",
    "        return self.head_node.val\n",
    "    \n",
    "    def size(self):\n",
    "        \"\"\"\n",
    "        Return size of the stack\n",
    "        \"\"\"\n",
    "        return self.item_count"
   ]
  },
  {
   "cell_type": "code",
   "execution_count": 211,
   "id": "071fa7e7",
   "metadata": {},
   "outputs": [],
   "source": [
    "S = Stack()"
   ]
  },
  {
   "cell_type": "code",
   "execution_count": 212,
   "id": "54c3bb94",
   "metadata": {},
   "outputs": [],
   "source": [
    "S.push(2)\n",
    "S.push(3)\n",
    "S.push(4)"
   ]
  },
  {
   "cell_type": "code",
   "execution_count": 213,
   "id": "69068149",
   "metadata": {},
   "outputs": [
    {
     "name": "stdout",
     "output_type": "stream",
     "text": [
      "4\n",
      "3\n",
      "2\n"
     ]
    },
    {
     "data": {
      "text/plain": [
       "3"
      ]
     },
     "execution_count": 213,
     "metadata": {},
     "output_type": "execute_result"
    }
   ],
   "source": [
    "S.list_traversed()\n",
    "S.size()"
   ]
  },
  {
   "cell_type": "code",
   "execution_count": 214,
   "id": "6e0a4e43",
   "metadata": {},
   "outputs": [],
   "source": [
    "S.pop()"
   ]
  },
  {
   "cell_type": "code",
   "execution_count": 215,
   "id": "209844db",
   "metadata": {},
   "outputs": [
    {
     "name": "stdout",
     "output_type": "stream",
     "text": [
      "3\n",
      "2\n"
     ]
    },
    {
     "data": {
      "text/plain": [
       "2"
      ]
     },
     "execution_count": 215,
     "metadata": {},
     "output_type": "execute_result"
    }
   ],
   "source": [
    "S.list_traversed()\n",
    "S.size()"
   ]
  },
  {
   "cell_type": "code",
   "execution_count": 216,
   "id": "4f980311",
   "metadata": {},
   "outputs": [
    {
     "name": "stdout",
     "output_type": "stream",
     "text": [
      "-4\n",
      "-2\n",
      "3\n",
      "2\n"
     ]
    },
    {
     "data": {
      "text/plain": [
       "4"
      ]
     },
     "execution_count": 216,
     "metadata": {},
     "output_type": "execute_result"
    }
   ],
   "source": [
    "S.push(-2)\n",
    "S.push(-4)\n",
    "S.list_traversed()\n",
    "S.size()"
   ]
  },
  {
   "cell_type": "code",
   "execution_count": 217,
   "id": "69009025",
   "metadata": {},
   "outputs": [
    {
     "name": "stdout",
     "output_type": "stream",
     "text": [
      "-2\n",
      "3\n",
      "2\n"
     ]
    },
    {
     "data": {
      "text/plain": [
       "3"
      ]
     },
     "execution_count": 217,
     "metadata": {},
     "output_type": "execute_result"
    }
   ],
   "source": [
    "S.pop()\n",
    "S.list_traversed()\n",
    "S.size()"
   ]
  },
  {
   "cell_type": "code",
   "execution_count": 218,
   "id": "9c3e2483",
   "metadata": {},
   "outputs": [
    {
     "data": {
      "text/plain": [
       "-2"
      ]
     },
     "execution_count": 218,
     "metadata": {},
     "output_type": "execute_result"
    }
   ],
   "source": [
    "S.top()"
   ]
  }
 ],
 "metadata": {
  "kernelspec": {
   "display_name": "Python 3",
   "language": "python",
   "name": "python3"
  },
  "language_info": {
   "codemirror_mode": {
    "name": "ipython",
    "version": 3
   },
   "file_extension": ".py",
   "mimetype": "text/x-python",
   "name": "python",
   "nbconvert_exporter": "python",
   "pygments_lexer": "ipython3",
   "version": "3.8.8"
  }
 },
 "nbformat": 4,
 "nbformat_minor": 5
}
