{
 "cells": [
  {
   "cell_type": "markdown",
   "id": "d82a0972",
   "metadata": {},
   "source": [
    "1. [10 pts] Given a list of list of dimension m x n (2-D matrix) representing a map of '1's (land) and '0's (water), write a Python function that returns the number of islands and takes the matrix as input.\n",
    "An island is surrounded by water and is formed by connecting adjacent lands horizontally or vertically.\\\n",
    "Assume all four edges of the matrix are all surrounded by water.\n",
    "Write an implementation for BFS and one for DFS\n",
    "Example:\n",
    "\n",
    "Input: map = [\n",
    "  [\"1\",\"1\",\"0\",\"0\",\"0\"],\n",
    "  [\"1\",\"1\",\"0\",\"0\",\"0\"],\n",
    "  [\"0\",\"0\",\"1\",\"0\",\"0\"],\n",
    "  [\"0\",\"0\",\"0\",\"1\",\"1\"]\n",
    "]\n",
    "Output: 3"
   ]
  },
  {
   "cell_type": "code",
   "execution_count": 737,
   "id": "ae4f16fc",
   "metadata": {},
   "outputs": [],
   "source": [
    "def dfs_path(array,i, j, visited):\n",
    "        if (i >= len(array) or i < 0) or (j >= len(array[0]) or j < 0):\n",
    "            return\n",
    "        if (array[i][j] == \"0\") or ((i,j) in visited):\n",
    "            return\n",
    "        visited.append((i,j))\n",
    "        dfs_path(array,i+1,j,visited)\n",
    "        dfs_path(array,i-1,j,visited)\n",
    "        dfs_path(array,i,j+1,visited)\n",
    "        dfs_path(array,i,j-1,visited)\n",
    "        return visited"
   ]
  },
  {
   "cell_type": "code",
   "execution_count": 738,
   "id": "193c5d91",
   "metadata": {},
   "outputs": [],
   "source": [
    "def all_islands_dfs(array):\n",
    "    m = len(array)\n",
    "    n = len(array[0])\n",
    "    result = 0\n",
    "    visited = []            \n",
    "    for i in range(m):\n",
    "        for j in range(n):\n",
    "            if (i,j) not in visited and array[i][j] == \"1\":\n",
    "                visited = dfs_path(array,i,j,visited)\n",
    "                result += 1\n",
    "    return result\n",
    "        "
   ]
  },
  {
   "cell_type": "code",
   "execution_count": 739,
   "id": "b644e237",
   "metadata": {},
   "outputs": [],
   "source": [
    "def bfs(unvisited):\n",
    "    queue = [unvisited[0]]\n",
    "    while queue:\n",
    "        check = queue.pop(0)\n",
    "        if check in unvisited:\n",
    "            unvisited.remove(check)\n",
    "        directions = [(check[0]+1, check[1]), (check[0]-1, check[1]), (check[0], check[1]+1), (check[0], check[1]-1)]\n",
    "        for i in directions:\n",
    "            if i in unvisited:\n",
    "                queue.append(i)\n",
    "    return unvisited"
   ]
  },
  {
   "cell_type": "code",
   "execution_count": 745,
   "id": "45334642",
   "metadata": {},
   "outputs": [],
   "source": [
    "def all_islands_bfs(array):\n",
    "    m = len(array)\n",
    "    n = len(array[0])\n",
    "    result = 0\n",
    "    unvisited = []     \n",
    "    for i in range(m):\n",
    "        for j in range(n):\n",
    "            if array[i][j] == \"1\":\n",
    "                unvisited.append((i,j))\n",
    "    while len(unvisited) > 0:\n",
    "        unvisited = bfs(unvisited)\n",
    "        result += 1 \n",
    "                \n",
    "    return result"
   ]
  },
  {
   "cell_type": "code",
   "execution_count": 746,
   "id": "78a6cbe6",
   "metadata": {},
   "outputs": [
    {
     "data": {
      "text/plain": [
       "9"
      ]
     },
     "execution_count": 746,
     "metadata": {},
     "output_type": "execute_result"
    }
   ],
   "source": [
    "all_islands_bfs([\n",
    "        [\"1\", \"0\", \"1\", \"0\", \"0\", \"0\", \"1\", \"1\", \"1\", \"1\"],\n",
    "        [\"0\", \"0\", \"1\", \"0\", \"1\", \"0\", \"1\", \"0\", \"0\", \"0\"],\n",
    "        [\"1\", \"1\", \"1\", \"1\", \"0\", \"0\", \"1\", \"0\", \"0\", \"0\"],\n",
    "        [\"1\", \"0\", \"0\", \"1\", \"0\", \"1\", \"0\", \"0\", \"0\", \"0\"],\n",
    "        [\"1\", \"1\", \"1\", \"1\", \"0\", \"0\", \"0\", \"1\", \"1\", \"1\"],\n",
    "        [\"0\", \"1\", \"0\", \"1\", \"0\", \"0\", \"1\", \"1\", \"1\", \"1\"],\n",
    "        [\"0\", \"0\", \"0\", \"0\", \"0\", \"1\", \"1\", \"1\", \"0\", \"0\"],\n",
    "        [\"0\", \"0\", \"0\", \"1\", \"0\", \"0\", \"1\", \"1\", \"1\", \"0\"],\n",
    "        [\"1\", \"0\", \"1\", \"0\", \"1\", \"0\", \"0\", \"1\", \"0\", \"0\"],\n",
    "        [\"1\", \"1\", \"1\", \"1\", \"0\", \"0\", \"0\", \"1\", \"1\", \"1\"]\n",
    "    ])"
   ]
  },
  {
   "cell_type": "code",
   "execution_count": 747,
   "id": "900a655e",
   "metadata": {},
   "outputs": [
    {
     "data": {
      "text/plain": [
       "3"
      ]
     },
     "execution_count": 747,
     "metadata": {},
     "output_type": "execute_result"
    }
   ],
   "source": [
    "all_islands_bfs([\n",
    "  [\"0\",\"1\",\"0\",\"0\",\"0\"],\n",
    "  [\"1\",\"1\",\"0\",\"0\",\"0\"],\n",
    "  [\"0\",\"0\",\"1\",\"0\",\"0\"],\n",
    "  [\"0\",\"0\",\"0\",\"1\",\"1\"]\n",
    "])"
   ]
  },
  {
   "cell_type": "code",
   "execution_count": 748,
   "id": "c497a7c5",
   "metadata": {},
   "outputs": [
    {
     "data": {
      "text/plain": [
       "9"
      ]
     },
     "execution_count": 748,
     "metadata": {},
     "output_type": "execute_result"
    }
   ],
   "source": [
    "all_islands_dfs([\n",
    "        [\"1\", \"0\", \"1\", \"0\", \"0\", \"0\", \"1\", \"1\", \"1\", \"1\"],\n",
    "        [\"0\", \"0\", \"1\", \"0\", \"1\", \"0\", \"1\", \"0\", \"0\", \"0\"],\n",
    "        [\"1\", \"1\", \"1\", \"1\", \"0\", \"0\", \"1\", \"0\", \"0\", \"0\"],\n",
    "        [\"1\", \"0\", \"0\", \"1\", \"0\", \"1\", \"0\", \"0\", \"0\", \"0\"],\n",
    "        [\"1\", \"1\", \"1\", \"1\", \"0\", \"0\", \"0\", \"1\", \"1\", \"1\"],\n",
    "        [\"0\", \"1\", \"0\", \"1\", \"0\", \"0\", \"1\", \"1\", \"1\", \"1\"],\n",
    "        [\"0\", \"0\", \"0\", \"0\", \"0\", \"1\", \"1\", \"1\", \"0\", \"0\"],\n",
    "        [\"0\", \"0\", \"0\", \"1\", \"0\", \"0\", \"1\", \"1\", \"1\", \"0\"],\n",
    "        [\"1\", \"0\", \"1\", \"0\", \"1\", \"0\", \"0\", \"1\", \"0\", \"0\"],\n",
    "        [\"1\", \"1\", \"1\", \"1\", \"0\", \"0\", \"0\", \"1\", \"1\", \"1\"]\n",
    "    ])"
   ]
  },
  {
   "cell_type": "code",
   "execution_count": 749,
   "id": "62b1476b",
   "metadata": {},
   "outputs": [
    {
     "data": {
      "text/plain": [
       "3"
      ]
     },
     "execution_count": 749,
     "metadata": {},
     "output_type": "execute_result"
    }
   ],
   "source": [
    "all_islands_dfs([\n",
    "  [\"0\",\"1\",\"0\",\"0\",\"0\"],\n",
    "  [\"1\",\"1\",\"0\",\"0\",\"0\"],\n",
    "  [\"0\",\"0\",\"1\",\"0\",\"0\"],\n",
    "  [\"0\",\"0\",\"0\",\"1\",\"1\"]\n",
    "])"
   ]
  },
  {
   "cell_type": "markdown",
   "id": "b6e933bc",
   "metadata": {},
   "source": [
    "## 2. [5 pts] A perfect square is an integer that is the square of an integer; in other words, it is the product of some integer with itself. For example, 1, 4, 9, and 16 are perfect squares, and 2 and 5 are not perfect squares\n",
    "\n",
    "Use BFS and write a Python function that gets a number `n` as input and return the least number of perfect square numbers that sum to `n`\n",
    "\n",
    "Example 1:\n",
    "\n",
    "```\n",
    "Input: n = 12\n",
    "Output: 3\n",
    "Explanation: 12 = 4 + 4 + 4.\n",
    "```\n",
    "\n",
    "Example 2:\n",
    "```\n",
    "Input: n = 13\n",
    "Output: 2\n",
    "Explanation: 13 = 4 + 9.\n",
    "```\n"
   ]
  },
  {
   "cell_type": "code",
   "execution_count": 1068,
   "id": "5f731290",
   "metadata": {},
   "outputs": [],
   "source": [
    "def graph(n):\n",
    "    square = []\n",
    "    for i in range(1, 1000):\n",
    "        square.append(i**2)\n",
    "    aux = []\n",
    "    for j in square:\n",
    "        if j <= n:\n",
    "            aux.append(j)\n",
    "    aux_1 = []\n",
    "    queue = []\n",
    "    a = n\n",
    "    for i in range(len(aux)-1,-1,-1):\n",
    "        while a > 0:\n",
    "            k = i\n",
    "            while k > -1:\n",
    "                if aux[k] <= a and a-aux[k] > -1:\n",
    "                    aux_1.append(aux[k])\n",
    "                    a -= aux[k]\n",
    "                    k += 1 \n",
    "                k -= 1\n",
    "        queue.append(aux_1)\n",
    "        aux_1 = []\n",
    "        a = n\n",
    "    result = len(queue[0])\n",
    "    for i in queue:\n",
    "        if len(i) < result:\n",
    "            result = len(i)\n",
    "    return result"
   ]
  },
  {
   "cell_type": "code",
   "execution_count": 1060,
   "id": "e3fe7553",
   "metadata": {},
   "outputs": [
    {
     "data": {
      "text/plain": [
       "2"
      ]
     },
     "execution_count": 1060,
     "metadata": {},
     "output_type": "execute_result"
    }
   ],
   "source": [
    "graph(2)"
   ]
  },
  {
   "cell_type": "code",
   "execution_count": 1061,
   "id": "12f34287",
   "metadata": {},
   "outputs": [
    {
     "data": {
      "text/plain": [
       "2"
      ]
     },
     "execution_count": 1061,
     "metadata": {},
     "output_type": "execute_result"
    }
   ],
   "source": [
    "graph(13)"
   ]
  },
  {
   "cell_type": "code",
   "execution_count": 1071,
   "id": "85ff20c2",
   "metadata": {},
   "outputs": [
    {
     "data": {
      "text/plain": [
       "1"
      ]
     },
     "execution_count": 1071,
     "metadata": {},
     "output_type": "execute_result"
    }
   ],
   "source": [
    "graph(16)"
   ]
  },
  {
   "cell_type": "code",
   "execution_count": 1070,
   "id": "70f351ce",
   "metadata": {},
   "outputs": [
    {
     "data": {
      "text/plain": [
       "3"
      ]
     },
     "execution_count": 1070,
     "metadata": {},
     "output_type": "execute_result"
    }
   ],
   "source": [
    "graph(12)"
   ]
  },
  {
   "cell_type": "code",
   "execution_count": 1062,
   "id": "ae84fd9a",
   "metadata": {},
   "outputs": [
    {
     "data": {
      "text/plain": [
       "4"
      ]
     },
     "execution_count": 1062,
     "metadata": {},
     "output_type": "execute_result"
    }
   ],
   "source": [
    "graph(55)"
   ]
  },
  {
   "cell_type": "code",
   "execution_count": 1063,
   "id": "2a1afdac",
   "metadata": {},
   "outputs": [
    {
     "data": {
      "text/plain": [
       "2"
      ]
     },
     "execution_count": 1063,
     "metadata": {},
     "output_type": "execute_result"
    }
   ],
   "source": [
    "graph(3250)"
   ]
  },
  {
   "cell_type": "code",
   "execution_count": 1067,
   "id": "665917e0",
   "metadata": {},
   "outputs": [
    {
     "data": {
      "text/plain": [
       "2"
      ]
     },
     "execution_count": 1067,
     "metadata": {},
     "output_type": "execute_result"
    }
   ],
   "source": [
    "graph(250)"
   ]
  }
 ],
 "metadata": {
  "kernelspec": {
   "display_name": "Python 3",
   "language": "python",
   "name": "python3"
  },
  "language_info": {
   "codemirror_mode": {
    "name": "ipython",
    "version": 3
   },
   "file_extension": ".py",
   "mimetype": "text/x-python",
   "name": "python",
   "nbconvert_exporter": "python",
   "pygments_lexer": "ipython3",
   "version": "3.8.8"
  }
 },
 "nbformat": 4,
 "nbformat_minor": 5
}
