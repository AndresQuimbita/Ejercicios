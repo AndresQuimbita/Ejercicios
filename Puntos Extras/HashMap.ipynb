{
 "cells": [
  {
   "cell_type": "code",
   "execution_count": 77,
   "id": "30c554e2",
   "metadata": {},
   "outputs": [],
   "source": [
    "class Hashmap:\n",
    "    def __init__(self):\n",
    "        self.MAX = 100\n",
    "        self.arr = [[] for i in range(self.MAX)]\n",
    "            \n",
    "    def get_hash(self,key):\n",
    "        hash_key = 0\n",
    "        for char in key:\n",
    "            hash_key += ord(char)\n",
    "        return hash_key % 100\n",
    "    \n",
    "    def add(self,key,value):\n",
    "        hash_key = self.get_hash(key)\n",
    "        found = False\n",
    "        \n",
    "        for index,element in enumerate(self.arr[hash_key]):\n",
    "            if element[0] == key and len(element) == 2:\n",
    "                self.arr[hash_key][index] = (key,value)\n",
    "                found = True\n",
    "                break\n",
    "        if not found:\n",
    "            self.arr[hash_key].append((key,value))\n",
    "                \n",
    "    def get(self,key):\n",
    "        hash_key = self.get_hash(key)\n",
    "        for element in self.arr[hash_key]:\n",
    "            if element[0] == key:\n",
    "                return element[1]\n",
    "        return -1\n",
    "            \n",
    "    def __delitem__(self,key):\n",
    "        hash_key = self.get_hash(key)\n",
    "        for index,element in enumerate(self.arr[hash_key]):\n",
    "            if element[0] == key:\n",
    "                del self.arr[hash_key][index]"
   ]
  },
  {
   "cell_type": "code",
   "execution_count": 78,
   "id": "f3a00bac",
   "metadata": {},
   "outputs": [],
   "source": [
    "h = Hashmap()"
   ]
  },
  {
   "cell_type": "code",
   "execution_count": 79,
   "id": "5b68ac04",
   "metadata": {},
   "outputs": [],
   "source": [
    "h.add(\"1\",\"5\")"
   ]
  },
  {
   "cell_type": "code",
   "execution_count": 80,
   "id": "11a48a4f",
   "metadata": {},
   "outputs": [],
   "source": [
    "h.add(\"2\",\"5\")"
   ]
  },
  {
   "cell_type": "code",
   "execution_count": 81,
   "id": "da5ffccd",
   "metadata": {},
   "outputs": [],
   "source": [
    "h.add(\"5\",\"4\")"
   ]
  },
  {
   "cell_type": "code",
   "execution_count": 82,
   "id": "3a086c37",
   "metadata": {},
   "outputs": [
    {
     "data": {
      "text/plain": [
       "'4'"
      ]
     },
     "execution_count": 82,
     "metadata": {},
     "output_type": "execute_result"
    }
   ],
   "source": [
    "h.get(\"5\")"
   ]
  },
  {
   "cell_type": "code",
   "execution_count": 83,
   "id": "95a6beef",
   "metadata": {},
   "outputs": [],
   "source": [
    "h.__delitem__(\"5\")"
   ]
  },
  {
   "cell_type": "code",
   "execution_count": 84,
   "id": "499345f2",
   "metadata": {},
   "outputs": [
    {
     "data": {
      "text/plain": [
       "-1"
      ]
     },
     "execution_count": 84,
     "metadata": {},
     "output_type": "execute_result"
    }
   ],
   "source": [
    "h.get(\"5\")"
   ]
  },
  {
   "cell_type": "code",
   "execution_count": null,
   "id": "b59d88f2",
   "metadata": {},
   "outputs": [],
   "source": []
  },
  {
   "cell_type": "code",
   "execution_count": null,
   "id": "669bed02",
   "metadata": {},
   "outputs": [],
   "source": []
  }
 ],
 "metadata": {
  "kernelspec": {
   "display_name": "Python 3",
   "language": "python",
   "name": "python3"
  },
  "language_info": {
   "codemirror_mode": {
    "name": "ipython",
    "version": 3
   },
   "file_extension": ".py",
   "mimetype": "text/x-python",
   "name": "python",
   "nbconvert_exporter": "python",
   "pygments_lexer": "ipython3",
   "version": "3.8.8"
  }
 },
 "nbformat": 4,
 "nbformat_minor": 5
}
