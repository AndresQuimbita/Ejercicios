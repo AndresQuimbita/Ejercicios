{
 "cells": [
  {
   "cell_type": "code",
   "execution_count": 77,
   "id": "30c554e2",
   "metadata": {},
   "outputs": [],
   "source": [
    "class Hashmap:\n",
    "    def __init__(self):\n",
    "        self.MAX = 100\n",
    "        self.arr = [[] for i in range(self.MAX)]\n",
    "            \n",
    "    def get_hash(self,key):\n",
    "        hash_key = 0\n",
    "        for char in key:\n",
    "            hash_key += ord(char)\n",
    "        return hash_key % 100\n",
    "    \n",
    "    def add(self,key,value):\n",
    "        hash_key = self.get_hash(key)\n",
    "        found = False\n",
    "        \n",
    "        for index,element in enumerate(self.arr[hash_key]):\n",
    "            if element[0] == key and len(element) == 2:\n",
    "                self.arr[hash_key][index] = (key,value)\n",
    "                found = True\n",
    "                break\n",
    "        if not found:\n",
    "            self.arr[hash_key].append((key,value))\n",
    "                \n",
    "    def get(self,key):\n",
    "        hash_key = self.get_hash(key)\n",
    "        for element in self.arr[hash_key]:\n",
    "            if element[0] == key:\n",
    "                return element[1]\n",
    "        return -1\n",
    "            \n",
    "    def __delitem__(self,key):\n",
    "        hash_key = self.get_hash(key)\n",
    "        for index,element in enumerate(self.arr[hash_key]):\n",
    "            if element[0] == key:\n",
    "                del self.arr[hash_key][index]"
   ]
  },
  {
   "cell_type": "code",
   "execution_count": 78,
   "id": "f3a00bac",
   "metadata": {},
   "outputs": [],
   "source": [
    "h = Hashmap()"
   ]
  },
  {
   "cell_type": "code",
   "execution_count": 79,
   "id": "5b68ac04",
   "metadata": {},
   "outputs": [],
   "source": [
    "h.add(\"1\",\"5\")"
   ]
  },
  {
   "cell_type": "code",
   "execution_count": 80,
   "id": "11a48a4f",
   "metadata": {},
   "outputs": [],
   "source": [
    "h.add(\"2\",\"5\")"
   ]
  },
  {
   "cell_type": "code",
   "execution_count": 81,
   "id": "da5ffccd",
   "metadata": {},
   "outputs": [],
   "source": [
    "h.add(\"5\",\"4\")"
   ]
  },
  {
   "cell_type": "code",
   "execution_count": 82,
   "id": "3a086c37",
   "metadata": {},
   "outputs": [
    {
     "data": {
      "text/plain": [
       "'4'"
      ]
     },
     "execution_count": 82,
     "metadata": {},
     "output_type": "execute_result"
    }
   ],
   "source": [
    "h.get(\"5\")"
   ]
  },
  {
   "cell_type": "code",
   "execution_count": 83,
   "id": "95a6beef",
   "metadata": {},
   "outputs": [],
   "source": [
    "h.__delitem__(\"5\")"
   ]
  },
  {
   "cell_type": "code",
   "execution_count": 84,
   "id": "499345f2",
   "metadata": {},
   "outputs": [
    {
     "data": {
      "text/plain": [
       "-1"
      ]
     },
     "execution_count": 84,
     "metadata": {},
     "output_type": "execute_result"
    }
   ],
   "source": [
    "h.get(\"5\")"
   ]
  },
  {
   "cell_type": "code",
   "execution_count": null,
   "id": "b59d88f2",
   "metadata": {},
   "outputs": [],
   "source": []
  },
  {
   "cell_type": "code",
   "execution_count": null,
   "id": "669bed02",
   "metadata": {},
   "outputs": [],
   "source": [
    "class Node:\n",
    "def __init__(self, key, value):\n",
    "\n",
    "   self.key = key\n",
    "\n",
    "   self.value = value\n",
    "\n",
    "   self.next = None\n",
    "\n",
    " \n",
    "\n",
    "class hashmap:\n",
    "\n",
    "    def __init__(self):\n",
    "\n",
    "       self.store = [None for _ in range(n)]\n",
    "\n",
    "    def get(self, key):\n",
    "\n",
    "       index = hash(key) & n-1\n",
    "\n",
    "       if self.store[index] is None:\n",
    "\n",
    "       return None\n",
    "\n",
    "       p = self.store[index]\n",
    "\n",
    "       while True:\n",
    "\n",
    "       if p.key == key:\n",
    "\n",
    "       return p.value\n",
    "\n",
    "       else:\n",
    "\n",
    "       if n.next:\n",
    "\n",
    "       p = p.next\n",
    "\n",
    "       else:\n",
    "\n",
    "     return None\n",
    "\n",
    "    def put(self, key, value):\n",
    "\n",
    "               nd = Node(key, value)\n",
    "\n",
    "               index = hash(key) & n-1\n",
    "\n",
    "               p = self.store[index]\n",
    "\n",
    "               if p is None:\n",
    "\n",
    "                     self.store[index] = nd\n",
    "\n",
    "               else:\n",
    "\n",
    "               if p.key == key:\n",
    "\n",
    "               p.value = value\n",
    "\n",
    "               else:\n",
    "\n",
    "               while p.next:\n",
    "\n",
    "               if p.key == key:\n",
    "\n",
    "             p.value = value\n",
    "\n",
    "             return\n",
    "\n",
    "             else:\n",
    "\n",
    "             p = p.next\n",
    "\n",
    "               p.next = nd\n"
   ]
  },
  {
   "cell_type": "code",
   "execution_count": null,
   "id": "ec355941",
   "metadata": {},
   "outputs": [],
   "source": []
  },
  {
   "cell_type": "code",
   "execution_count": null,
   "id": "ad4a1d24",
   "metadata": {},
   "outputs": [],
   "source": []
  },
  {
   "cell_type": "code",
   "execution_count": null,
   "id": "7ca0f2de",
   "metadata": {},
   "outputs": [],
   "source": []
  },
  {
   "cell_type": "code",
   "execution_count": null,
   "id": "79ddf644",
   "metadata": {},
   "outputs": [],
   "source": [
    "class HashMap:\n",
    "        def __init__(self):\n",
    "                self.size = 6\n",
    "                self.map = [None] * self.size\n",
    "\t\t\n",
    "        def _get_hash(self, key):\n",
    "                hash = 0\n",
    "                for char in str(key):\n",
    "                        hash += ord(char)\n",
    "                return hash % self.size\n",
    "\t\t\n",
    "        def add(self, key, value):\n",
    "                key_hash = self._get_hash(key)\n",
    "                key_value = [key, value]\n",
    "\t\t\n",
    "                if self.map[key_hash] is None:\n",
    "                        self.map[key_hash] = list([key_value])\n",
    "                        return True\n",
    "                else:\n",
    "                        for pair in self.map[key_hash]:\n",
    "                                if pair[0] == key:\n",
    "                                        pair[1] = value\n",
    "                                        return True\n",
    "                        self.map[key_hash].append(key_value)\n",
    "                        return True\n",
    "\t\t\t\n",
    "        def get(self, key):\n",
    "                key_hash = self._get_hash(key)\n",
    "                if self.map[key_hash] is not None:\n",
    "                        for pair in self.map[key_hash]:\n",
    "                                if pair[0] == key:\n",
    "                                        return pair[1]\n",
    "                return None\n",
    "\t\t\t\n",
    "        def delete(self, key):\n",
    "                key_hash = self._get_hash(key)\n",
    "\t\t\n",
    "                if self.map[key_hash] is None:\n",
    "                        return False\n",
    "                for i in range (0, len(self.map[key_hash])):\n",
    "                        if self.map[key_hash][i][0] == key:\n",
    "                                self.map[key_hash].pop(i)\n",
    "                                return True\n",
    "                return False\n",
    "\t\n",
    "        def keys(self):\n",
    "                arr = []\n",
    "                for i in range(0, len(self.map)):\n",
    "                        if self.map[i]:\n",
    "                                arr.append(self.map[i][0])\n",
    "                return arr\n",
    "\t\t\t\n",
    "        def print(self):\n",
    "                print('---PHONEBOOK----')\n",
    "                for item in self.map:\n",
    "                        if item is not None:\n",
    "                                print(str(item))\n",
    "\t\t\t"
   ]
  },
  {
   "cell_type": "code",
   "execution_count": null,
   "id": "8bb076ca",
   "metadata": {},
   "outputs": [],
   "source": []
  },
  {
   "cell_type": "code",
   "execution_count": null,
   "id": "840f458f",
   "metadata": {},
   "outputs": [],
   "source": []
  },
  {
   "cell_type": "code",
   "execution_count": null,
   "id": "6ce56ff8",
   "metadata": {},
   "outputs": [],
   "source": []
  },
  {
   "cell_type": "code",
   "execution_count": null,
   "id": "fc0dd609",
   "metadata": {},
   "outputs": [],
   "source": []
  },
  {
   "cell_type": "code",
   "execution_count": null,
   "id": "dddcef73",
   "metadata": {},
   "outputs": [],
   "source": []
  },
  {
   "cell_type": "code",
   "execution_count": null,
   "id": "f5ddcf4b",
   "metadata": {},
   "outputs": [],
   "source": []
  },
  {
   "cell_type": "code",
   "execution_count": null,
   "id": "99555200",
   "metadata": {},
   "outputs": [],
   "source": []
  }
 ],
 "metadata": {
  "kernelspec": {
   "display_name": "Python 3",
   "language": "python",
   "name": "python3"
  },
  "language_info": {
   "codemirror_mode": {
    "name": "ipython",
    "version": 3
   },
   "file_extension": ".py",
   "mimetype": "text/x-python",
   "name": "python",
   "nbconvert_exporter": "python",
   "pygments_lexer": "ipython3",
   "version": "3.8.8"
  }
 },
 "nbformat": 4,
 "nbformat_minor": 5
}
