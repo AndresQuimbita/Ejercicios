{
 "cells": [
  {
   "cell_type": "code",
   "execution_count": 21,
   "id": "83063072",
   "metadata": {},
   "outputs": [],
   "source": [
    "import time\n",
    "import pandas as pd\n",
    "import numpy as np\n",
    "import matplotlib.pyplot as plt\n",
    "%matplotlib inline  "
   ]
  },
  {
   "cell_type": "code",
   "execution_count": 1,
   "id": "dab7369f",
   "metadata": {},
   "outputs": [],
   "source": [
    "class Array(object):\n",
    "    def __init__(self, size, defaultValue = None):\n",
    "        self.size = size\n",
    "        if(defaultValue == None):\n",
    "            self.items = list()\n",
    "            for i in range(size):\n",
    "                self.items.append(defaultValue)\n",
    "        else:\n",
    "            self.items = list()\n",
    "            if(len(defaultValue) == size or len(defaultValue) < size):\n",
    "                for j in range(len(defaultValue)):\n",
    "                    if(defaultValue[j]):\n",
    "                        self.items.append(defaultValue[j])\n",
    "                for i in range(len(defaultValue), size):\n",
    "                    self.items.append(None)\n",
    "            else:\n",
    "                print('Elements are more than the size specified')\n",
    "    \n",
    "    def myLen(self):\n",
    "        length = 0\n",
    "        for i in self.items:\n",
    "            if i == None:\n",
    "                continue\n",
    "            else:\n",
    "                length += 1\n",
    "        return length\n",
    "    \n",
    "    def insertAtIndex(self, index, element):\n",
    "        if (self.myLen() < self.size):\n",
    "            for i in range(self.myLen(), index, -1):\n",
    "                self.items[i] = self.items[i - 1]\n",
    "            self.items[index] = element\n",
    "        else:\n",
    "            print('Element index out of range')\n",
    "            \n",
    "    def deleteAtIndex(self, index):\n",
    "        if index < self.size:\n",
    "            self.items[index] = None\n",
    "        else:\n",
    "            print('Index out of range')"
   ]
  },
  {
   "cell_type": "code",
   "execution_count": 2,
   "id": "54ed1f23",
   "metadata": {},
   "outputs": [
    {
     "name": "stdout",
     "output_type": "stream",
     "text": [
      "[3, 2, None, None, None]\n",
      "[3, 4, 2, None, None]\n",
      "[3, 4, 2, None, -5]\n",
      "[3, None, 2, None, -5]\n"
     ]
    }
   ],
   "source": [
    "    myArray = Array(5, [3,2])\n",
    "    print(myArray.items)      \n",
    "    myArray.insertAtIndex(1,4)\n",
    "    print(myArray.items)     \n",
    "    myArray.insertAtIndex(4,-5)\n",
    "    print(myArray.items)   \n",
    "    myArray.deleteAtIndex(1)\n",
    "    print(myArray.items)   "
   ]
  },
  {
   "cell_type": "code",
   "execution_count": null,
   "id": "7832519e",
   "metadata": {},
   "outputs": [],
   "source": []
  }
 ],
 "metadata": {
  "kernelspec": {
   "display_name": "Python 3",
   "language": "python",
   "name": "python3"
  },
  "language_info": {
   "codemirror_mode": {
    "name": "ipython",
    "version": 3
   },
   "file_extension": ".py",
   "mimetype": "text/x-python",
   "name": "python",
   "nbconvert_exporter": "python",
   "pygments_lexer": "ipython3",
   "version": "3.8.8"
  }
 },
 "nbformat": 4,
 "nbformat_minor": 5
}
